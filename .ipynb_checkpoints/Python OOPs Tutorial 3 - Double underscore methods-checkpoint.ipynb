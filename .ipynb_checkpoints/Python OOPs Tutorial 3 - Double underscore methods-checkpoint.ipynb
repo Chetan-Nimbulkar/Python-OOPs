{
 "cells": [
  {
   "cell_type": "markdown",
   "metadata": {},
   "source": [
    "### Double Underscore Methods\n",
    "\n",
    "These methods are used to override the operator which are commanly used in python\n",
    "For this example we create a class called `Rational` Which in arithematic function shows rational Number, To create a Rational object, we create `Rational` Class to get inherited from which is"
   ]
  },
  {
   "cell_type": "code",
   "execution_count": 1,
   "metadata": {},
   "outputs": [],
   "source": [
    "class Rational(object):\n",
    "\n",
    "    def __init__(self, numerator, denominator):\n",
    "        self.numerator = numerator\n",
    "        self.denominator = denominator\n",
    "\n",
    "    def __repr__(self):\n",
    "        return '%d/%d' % (self.numerator, self.denominator)"
   ]
  },
  {
   "cell_type": "markdown",
   "metadata": {},
   "source": [
    "Here we encounter first Dunder Method as '__init__' used for implement the constructor, and another is `__repr__` which is used for representation of the instance in string form, `__repr__` is primarily used for logging and development purposes, for actual representation end user side we can use `__str__`"
   ]
  },
  {
   "cell_type": "code",
   "execution_count": 2,
   "metadata": {},
   "outputs": [],
   "source": [
    "no_1 = Rational(4,3)"
   ]
  },
  {
   "cell_type": "code",
   "execution_count": 3,
   "metadata": {},
   "outputs": [
    {
     "data": {
      "text/plain": [
       "4/3"
      ]
     },
     "execution_count": 3,
     "metadata": {},
     "output_type": "execute_result"
    }
   ],
   "source": [
    "no_1"
   ]
  },
  {
   "cell_type": "code",
   "execution_count": 4,
   "metadata": {},
   "outputs": [],
   "source": [
    "class Rational2(object):\n",
    "\n",
    "    def __init__(self, numerator, denominator):\n",
    "        self.numerator = numerator\n",
    "        self.denominator = denominator\n"
   ]
  },
  {
   "cell_type": "markdown",
   "metadata": {},
   "source": [
    "Without `__repr__` returns an memory placeholder for object"
   ]
  },
  {
   "cell_type": "code",
   "execution_count": 5,
   "metadata": {},
   "outputs": [],
   "source": [
    "no_2 = Rational2(4,3)   #expect ambigueous placeholder"
   ]
  },
  {
   "cell_type": "code",
   "execution_count": 6,
   "metadata": {},
   "outputs": [
    {
     "name": "stdout",
     "output_type": "stream",
     "text": [
      "<__main__.Rational2 object at 0x000001D5142D7F70>\n",
      "<__main__.Rational2 object at 0x000001D5142D7F70>\n"
     ]
    }
   ],
   "source": [
    "print(no_2)\n",
    "print(str(no_2))"
   ]
  },
  {
   "cell_type": "markdown",
   "metadata": {},
   "source": [
    "Let's Implement the __str__ Method"
   ]
  },
  {
   "cell_type": "code",
   "execution_count": 14,
   "metadata": {},
   "outputs": [],
   "source": [
    "class Rational(object):\n",
    "\n",
    "    def __init__(self, numerator, denominator):\n",
    "        self.numerator = numerator\n",
    "        self.denominator = denominator\n",
    "\n",
    "    def __repr__(self):\n",
    "        return '%d/%d' % (self.numerator, self.denominator)\n",
    "    \n",
    "    def __str__(self):\n",
    "        irrational = round(self.numerator/self.denominator, 4)\n",
    "        return (  '{}/{}'.format(self.numerator, self.denominator)+ ' or ' + f'{irrational}')"
   ]
  },
  {
   "cell_type": "code",
   "execution_count": 15,
   "metadata": {},
   "outputs": [
    {
     "data": {
      "text/plain": [
       "22/7"
      ]
     },
     "execution_count": 15,
     "metadata": {},
     "output_type": "execute_result"
    }
   ],
   "source": [
    "no_3 = Rational(22,7)\n",
    "no_3"
   ]
  },
  {
   "cell_type": "code",
   "execution_count": 16,
   "metadata": {},
   "outputs": [
    {
     "name": "stdout",
     "output_type": "stream",
     "text": [
      "22/7 or 3.1429\n"
     ]
    }
   ],
   "source": [
    "print(str(no_3))"
   ]
  },
  {
   "cell_type": "markdown",
   "metadata": {},
   "source": [
    "See in In[8] and In[9] we are overriding the representation operator and string output operator by `__repr__` and `__str__` respectively"
   ]
  },
  {
   "cell_type": "markdown",
   "metadata": {},
   "source": [
    "Now we know the addition, subtraction, multiplication and division methodology of Rational function, but it is quite different from normal addition and substaction, here is the example of implementation of these methods. it is important because we must add the support for the basic calculation otherwise it's impossible to interact our `Rational` object in other Data types"
   ]
  },
  {
   "cell_type": "code",
   "execution_count": 79,
   "metadata": {},
   "outputs": [],
   "source": [
    "class Rational(object):\n",
    "    # we can define a normal function for subcalculations just like this\n",
    "    def _LCMHCF(self, x, y):  # Possible PEP8 violaton\n",
    "        maxno = max(x, y)\n",
    "        minno = min(x, y)\n",
    "        while (True):\n",
    "            if ((maxno % x == 0) and (maxno % y == 0)):\n",
    "                LCM = maxno\n",
    "                break\n",
    "            maxno += 1\n",
    "\n",
    "        for _ in range(1, minno + 1):\n",
    "            if ((x % _ == 0) and (y % _ == 0)):\n",
    "                HCF = _\n",
    "        return {'LCM': LCM, 'HCF': HCF}\n",
    "\n",
    "    def __init__(self, numerator, denominator):\n",
    "\n",
    "        self.numerator = numerator\n",
    "        self.denominator = denominator\n",
    "\n",
    "        self.irrational = (numerator / denominator)\n",
    "\n",
    "    def __repr__(self):\n",
    "        return '%d/%d' % (self.numerator, self.denominator)\n",
    "\n",
    "    def __str__(self):\n",
    "        return (f'{round(self.irrational, 4)}' + ' or ' + '{}/{}'.format(self.numerator, self.denominator))\n",
    "\n",
    "    def __add__(self, number):\n",
    "        if isinstance(number, int):\n",
    "            return Rational((self.numerator +( self.denominator * number)), self.denominator)\n",
    "        elif isinstance(number, Rational):\n",
    "            if (number.denominator == self.denominator):\n",
    "                return Rational((number.numerator + self.numerator), self.denominator)\n",
    "\n",
    "            else:\n",
    "                lcm_den = self._LCMHCF(self.denominator, number.denominator)['LCM']\n",
    "                return Rational((int((number.numerator * lcm_den) + (self.numerator * lcm_den) / lcm_den)), lcm_den)\n",
    "        else:\n",
    "            raise TypeError('Sorry, Not a compactible data type: %s' % type(number))\n",
    "\n",
    "    def __sub__(self, number):\n",
    "        if isinstance(number, int):\n",
    "            return Rational((self.numerator - self.denominator * number), self.denominator)\n",
    "        elif isinstance(number, Rational):\n",
    "            if (number.denominator == self.denominator):\n",
    "                return Rational((number.numerator - self.numerator), self.denominator)\n",
    "\n",
    "            else:\n",
    "                lcm_den = self._LCMHCF(self.denominator, number.denominator)['LCM']\n",
    "                return Rational((int((number.numerator * lcm_den) - (self.numerator * lcm_den) / lcm_den)), lcm_den)\n",
    "        else:\n",
    "            raise TypeError('Sorry, Not a compactible data type: %s' % type(number))\n",
    "\n",
    "    def __mul__(self, number):\n",
    "        if isinstance(number, int):\n",
    "            return Rational(self.numerator * number, self.denominator)\n",
    "        elif isinstance(number, Rational):\n",
    "            return Rational(self.numerator * number.numerator, self.denominator * number.denominator)\n",
    "        else:\n",
    "            raise TypeError('Sorry, Not a compactible data type: %s' % type(number))\n",
    "\n",
    "    def __truediv__(self, number):\n",
    "        if isinstance(number, int):\n",
    "            if  self.numerator % number == 0:\n",
    "                return Rational(self.numerator / number, self.denominator)\n",
    "            else:\n",
    "                return Rational(self.numerator, number * self.denominator)\n",
    "        elif isinstance(number, Rational):\n",
    "            return Rational(self.numerator * number.denominator, self.denominator * number.numerator)\n",
    "        else:\n",
    "            raise TypeError('Sorry, Not a compactible data type: %s' % type(number))\n",
    "\n",
    "    def decompose(self):\n",
    "        x = self._LCMHCF(self.numerator, self.denominator)['HCF']\n",
    "        return Rational(self.numerator/x, self.denominator/x)"
   ]
  },
  {
   "cell_type": "markdown",
   "metadata": {},
   "source": [
    "#### Hmm!! Created a Rational class enough to make a simple package and upload to PIP library , let's check"
   ]
  },
  {
   "cell_type": "code",
   "execution_count": 73,
   "metadata": {},
   "outputs": [
    {
     "data": {
      "text/plain": [
       "60/7"
      ]
     },
     "execution_count": 73,
     "metadata": {},
     "output_type": "execute_result"
    }
   ],
   "source": [
    "Rational(11,7) + 7 # overrides addition"
   ]
  },
  {
   "cell_type": "code",
   "execution_count": 74,
   "metadata": {},
   "outputs": [
    {
     "data": {
      "text/plain": [
       "109/14"
      ]
     },
     "execution_count": 74,
     "metadata": {},
     "output_type": "execute_result"
    }
   ],
   "source": [
    "Rational(11,7) + Rational(7,14)   # overrides addition"
   ]
  },
  {
   "cell_type": "code",
   "execution_count": 75,
   "metadata": {},
   "outputs": [
    {
     "data": {
      "text/plain": [
       "-38/7"
      ]
     },
     "execution_count": 75,
     "metadata": {},
     "output_type": "execute_result"
    }
   ],
   "source": [
    "Rational(11,7) - 7  # overrides substaction"
   ]
  },
  {
   "cell_type": "code",
   "execution_count": 76,
   "metadata": {},
   "outputs": [
    {
     "name": "stdout",
     "output_type": "stream",
     "text": [
      "6.2143 or 87/14\n"
     ]
    }
   ],
   "source": [
    "print(Rational(11,7) - Rational(7,14))   # overrides substaction"
   ]
  },
  {
   "cell_type": "code",
   "execution_count": 77,
   "metadata": {},
   "outputs": [
    {
     "name": "stdout",
     "output_type": "stream",
     "text": [
      "0.2245 or 11/49\n"
     ]
    }
   ],
   "source": [
    "print(Rational(11,7) / 7)   # overrides division"
   ]
  },
  {
   "cell_type": "code",
   "execution_count": 78,
   "metadata": {},
   "outputs": [
    {
     "name": "stdout",
     "output_type": "stream",
     "text": [
      "11.0 or 77/7\n"
     ]
    }
   ],
   "source": [
    "print(Rational(11,7) * 7)   # overrides multiplication"
   ]
  },
  {
   "cell_type": "code",
   "execution_count": 2,
   "metadata": {},
   "outputs": [
    {
     "ename": "NameError",
     "evalue": "name 'Rational' is not defined",
     "output_type": "error",
     "traceback": [
      "\u001b[1;31m---------------------------------------------------------------------------\u001b[0m",
      "\u001b[1;31mNameError\u001b[0m                                 Traceback (most recent call last)",
      "\u001b[1;32m<ipython-input-2-acd55c5ce85c>\u001b[0m in \u001b[0;36m<module>\u001b[1;34m\u001b[0m\n\u001b[1;32m----> 1\u001b[1;33m \u001b[0mRational\u001b[0m\u001b[1;33m(\u001b[0m\u001b[1;36m22\u001b[0m\u001b[1;33m,\u001b[0m\u001b[1;36m44\u001b[0m\u001b[1;33m)\u001b[0m\u001b[1;33m.\u001b[0m\u001b[0mdecompose\u001b[0m\u001b[1;33m(\u001b[0m\u001b[1;33m)\u001b[0m \u001b[1;31m# Dividing Numarator and denominator till smaller value\u001b[0m\u001b[1;33m\u001b[0m\u001b[1;33m\u001b[0m\u001b[0m\n\u001b[0m",
      "\u001b[1;31mNameError\u001b[0m: name 'Rational' is not defined"
     ]
    }
   ],
   "source": [
    "Rational(22,44).decompose() # Dividing Numarator and denominator till smaller value"
   ]
  },
  {
   "cell_type": "markdown",
   "metadata": {},
   "source": [
    "Did you noticed `_LCMHCF` even it defined as a function, Earlier I used `.decompose` method which taken the benefit of decompose function but you cannot access the `_LCMHCF` function. It is for internal use only"
   ]
  },
  {
   "cell_type": "markdown",
   "metadata": {},
   "source": [
    "Other double underscore methods can be found in https://docs.python.org/3/reference/datamodel.html#emulating-numeric-types"
   ]
  },
  {
   "cell_type": "markdown",
   "metadata": {},
   "source": [
    "### Please Clear the concepts of these methods because they plays crucial parts in later stages"
   ]
  }
 ],
 "metadata": {
  "kernelspec": {
   "display_name": "Python 3",
   "language": "python",
   "name": "python3"
  },
  "language_info": {
   "codemirror_mode": {
    "name": "ipython",
    "version": 3
   },
   "file_extension": ".py",
   "mimetype": "text/x-python",
   "name": "python",
   "nbconvert_exporter": "python",
   "pygments_lexer": "ipython3",
   "version": "3.8.3"
  }
 },
 "nbformat": 4,
 "nbformat_minor": 4
}
