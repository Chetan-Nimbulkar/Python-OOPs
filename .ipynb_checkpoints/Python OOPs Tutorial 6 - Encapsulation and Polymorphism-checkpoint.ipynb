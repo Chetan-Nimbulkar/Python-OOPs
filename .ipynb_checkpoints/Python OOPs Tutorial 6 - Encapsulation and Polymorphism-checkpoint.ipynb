{
 "cells": [
  {
   "cell_type": "markdown",
   "metadata": {},
   "source": [
    "## Encapsulation\n",
    "Encapsulation in Python is the process of wrapping up variables and methods into a single entity.In programming, a class is an example that wraps all the variables and methods defined inside it."
   ]
  },
  {
   "cell_type": "markdown",
   "metadata": {},
   "source": [
    "Until now you understand the single underscore method and double underscore methods now we understand single underscore and double underscore variables, Which is also known as private and protected members respectively"
   ]
  },
  {
   "cell_type": "markdown",
   "metadata": {},
   "source": [
    "### Protected Members"
   ]
  },
  {
   "cell_type": "code",
   "execution_count": 7,
   "metadata": {},
   "outputs": [
    {
     "name": "stdout",
     "output_type": "stream",
     "text": [
      "10\n",
      "20\n"
     ]
    },
    {
     "ename": "AttributeError",
     "evalue": "'Circle' object has no attribute 'length'",
     "output_type": "error",
     "traceback": [
      "\u001b[1;31m---------------------------------------------------------------------------\u001b[0m",
      "\u001b[1;31mAttributeError\u001b[0m                            Traceback (most recent call last)",
      "\u001b[1;32m<ipython-input-7-638a90370044>\u001b[0m in \u001b[0;36m<module>\u001b[1;34m\u001b[0m\n\u001b[0;32m     13\u001b[0m \u001b[0mcr\u001b[0m \u001b[1;33m=\u001b[0m \u001b[0mCircle\u001b[0m\u001b[1;33m(\u001b[0m\u001b[1;33m)\u001b[0m\u001b[1;33m\u001b[0m\u001b[1;33m\u001b[0m\u001b[0m\n\u001b[0;32m     14\u001b[0m \u001b[1;31m#printing protected variablesoutsidethe class 'Shape' in which they are defined\u001b[0m\u001b[1;33m\u001b[0m\u001b[1;33m\u001b[0m\u001b[1;33m\u001b[0m\u001b[0m\n\u001b[1;32m---> 15\u001b[1;33m \u001b[0mprint\u001b[0m\u001b[1;33m(\u001b[0m\u001b[0mcr\u001b[0m\u001b[1;33m.\u001b[0m\u001b[0mlength\u001b[0m\u001b[1;33m)\u001b[0m\u001b[1;33m\u001b[0m\u001b[1;33m\u001b[0m\u001b[0m\n\u001b[0m\u001b[0;32m     16\u001b[0m \u001b[0mprint\u001b[0m\u001b[1;33m(\u001b[0m\u001b[0mcr\u001b[0m\u001b[1;33m.\u001b[0m\u001b[0mbreadth\u001b[0m\u001b[1;33m)\u001b[0m\u001b[1;33m\u001b[0m\u001b[1;33m\u001b[0m\u001b[0m\n",
      "\u001b[1;31mAttributeError\u001b[0m: 'Circle' object has no attribute 'length'"
     ]
    }
   ],
   "source": [
    "class Shape:#protected variables\n",
    "    _length = 10 \n",
    "    _breadth = 20\n",
    "\n",
    "    \n",
    "class Circle(Shape):\n",
    "    def __init__(self):#printing protected variables in the derived class\n",
    "        print(self._length)\n",
    "        print(self._breadth)\n",
    "\n",
    "    \n",
    "    \n",
    "cr = Circle()\n",
    "#printing protected variablesoutsidethe class 'Shape' in which they are defined\n",
    "print(cr.length)\n",
    "print(cr.breadth)"
   ]
  },
  {
   "cell_type": "markdown",
   "metadata": {},
   "source": [
    "#### See!! `length` and `breadth` are protected members and cannot be accessed outside class"
   ]
  },
  {
   "cell_type": "markdown",
   "metadata": {},
   "source": [
    "### Private Members\n"
   ]
  },
  {
   "cell_type": "code",
   "execution_count": 4,
   "metadata": {},
   "outputs": [
    {
     "name": "stdout",
     "output_type": "stream",
     "text": [
      "5\n",
      "3\n"
     ]
    },
    {
     "ename": "AttributeError",
     "evalue": "'Rectangle' object has no attribute 'breadth'",
     "output_type": "error",
     "traceback": [
      "\u001b[1;31m---------------------------------------------------------------------------\u001b[0m",
      "\u001b[1;31mAttributeError\u001b[0m                            Traceback (most recent call last)",
      "\u001b[1;32m<ipython-input-4-702e07f5a355>\u001b[0m in \u001b[0;36m<module>\u001b[1;34m\u001b[0m\n\u001b[0;32m     11\u001b[0m \u001b[1;31m#printing values of the private variable outside the class using the object created for the class 'Rectangle'\u001b[0m\u001b[1;33m\u001b[0m\u001b[1;33m\u001b[0m\u001b[1;33m\u001b[0m\u001b[0m\n\u001b[0;32m     12\u001b[0m \u001b[1;31m# print(rec.length)\u001b[0m\u001b[1;33m\u001b[0m\u001b[1;33m\u001b[0m\u001b[1;33m\u001b[0m\u001b[0m\n\u001b[1;32m---> 13\u001b[1;33m \u001b[0mprint\u001b[0m\u001b[1;33m(\u001b[0m\u001b[0mrec\u001b[0m\u001b[1;33m.\u001b[0m\u001b[0mbreadth\u001b[0m\u001b[1;33m)\u001b[0m\u001b[1;33m\u001b[0m\u001b[1;33m\u001b[0m\u001b[0m\n\u001b[0m",
      "\u001b[1;31mAttributeError\u001b[0m: 'Rectangle' object has no attribute 'breadth'"
     ]
    }
   ],
   "source": [
    "class Rectangle:\n",
    "    __length = 0      #private variable\n",
    "    __breadth = 0     #private variable\n",
    "    def __init__(self):     #constructor\n",
    "        self.__length = 5\n",
    "        self.__breadth = 3   #printing values of the private variable within the class\n",
    "        print(self.__length)\n",
    "        print(self.__breadth)\n",
    "\n",
    "rec = Rectangle() #object created for the class 'Rectangle'\n",
    "#printing values of the private variable outside the class using the object created for the class 'Rectangle'\n",
    "# print(rec.length)\n",
    "print(rec.breadth)"
   ]
  },
  {
   "cell_type": "markdown",
   "metadata": {},
   "source": [
    "#### Hence in the above program, Encapsulation is achieved using the private variables 'length' and 'breadth'. Next, let us see how to achieve Encapsulation using protected members."
   ]
  },
  {
   "cell_type": "markdown",
   "metadata": {},
   "source": [
    "Q: Then What did you achieved?\\\n",
    "A: I created a method intended to only use inside the class only, Not usable or even or visible to outside class, see the example that created in `Python OOPs Tutorial 3 - Double underscore methods`, while creating rational class, I left `_LCMHCF` protected, so this function should __NOT__ be public "
   ]
  },
  {
   "cell_type": "markdown",
   "metadata": {},
   "source": [
    "## Polymorphism"
   ]
  },
  {
   "cell_type": "markdown",
   "metadata": {},
   "source": [
    "Polymorphism is like giving functionality of using a single interface for different methods, classes and even datatypes. Its aim is to behave similar fashion and output as expected even Input has different aspects eg."
   ]
  },
  {
   "cell_type": "code",
   "execution_count": 7,
   "metadata": {},
   "outputs": [
    {
     "name": "stdout",
     "output_type": "stream",
     "text": [
      "11\n",
      "<class 'str'>\n",
      "8\n",
      "<class 'list'>\n",
      "8\n",
      "<class 'set'>\n"
     ]
    }
   ],
   "source": [
    "print(len(\"hello world\"))\n",
    "print(type(\"hello world\"))\n",
    "print(len([1,2,3,4,5,6,7,8]))\n",
    "print(type([1,2,3,4,5,6,7,8]))\n",
    "print(len({1,2,3,4,5,6,7,8}))\n",
    "print(type({1,2,3,4,5,6,7,8}))"
   ]
  },
  {
   "cell_type": "markdown",
   "metadata": {},
   "source": [
    "#### See!! even classes and datatypes for these 3 examples are different `len()` works on exact same function : returning the length of given object"
   ]
  },
  {
   "cell_type": "markdown",
   "metadata": {},
   "source": [
    "#### Now we will see what is actually a polymorphism and how we can implement it"
   ]
  },
  {
   "cell_type": "markdown",
   "metadata": {},
   "source": [
    "#### First There are Three types of polymorphism we will see\n",
    "1. Polymorphism with class\n",
    "2. Polymorphism with function"
   ]
  },
  {
   "cell_type": "markdown",
   "metadata": {},
   "source": [
    "### 1.Polymorphism with class"
   ]
  },
  {
   "cell_type": "code",
   "execution_count": 22,
   "metadata": {},
   "outputs": [],
   "source": [
    "# I am making class for short and specific purpose, then there is no need to make getter and setter methods\n",
    "class Square:   \n",
    "    def __init__(self,side):                            #pay attention here\n",
    "        self.side = side\n",
    "    def calculate_area(self):   \n",
    "        return self.side * self.side\n",
    "\n",
    "class Triangle:                                        #pay attention here\n",
    "    def __init__(self,height,length):\n",
    "        self.height = height\n",
    "        self.length = length\n",
    "    def calculate_area(self):   \n",
    "        return self.height * self.length"
   ]
  },
  {
   "cell_type": "code",
   "execution_count": 25,
   "metadata": {},
   "outputs": [
    {
     "name": "stdout",
     "output_type": "stream",
     "text": [
      "Area of square:  49\n",
      "Area of triangle:  150\n"
     ]
    }
   ],
   "source": [
    "sq = Square(7)\n",
    "trt = Triangle(10,15)\n",
    "print(\"Area of square: \", sq.calculate_area())\n",
    "print(\"Area of triangle: \", trt.calculate_area())"
   ]
  },
  {
   "cell_type": "markdown",
   "metadata": {},
   "source": [
    "#### See!! I had used `.calculate_area` both of the times but it returned the result same even I had to implement with different logic"
   ]
  },
  {
   "cell_type": "markdown",
   "metadata": {},
   "source": [
    "### 2.Polymorphism with function"
   ]
  },
  {
   "cell_type": "code",
   "execution_count": 31,
   "metadata": {},
   "outputs": [
    {
     "name": "stdout",
     "output_type": "stream",
     "text": [
      "49\n",
      "154\n"
     ]
    }
   ],
   "source": [
    "def find_area_of_shape(obj):\n",
    "    return obj.calculate_area()\n",
    "\n",
    "sq = Square(7)\n",
    "tri = Triangle(11,14)\n",
    "\n",
    "# calling the method with different objects\n",
    "print(find_area_of_shape(sq))\n",
    "print(find_area_of_shape(tri))"
   ]
  },
  {
   "cell_type": "markdown",
   "metadata": {},
   "source": [
    "Here the true power of polymorphism comes in!, as the methods of both class are exactly the same we can invoke them in separate function and even run them into the loop."
   ]
  },
  {
   "cell_type": "markdown",
   "metadata": {},
   "source": [
    "Q: what will it do in real world?\\\n",
    "A: Okay imagine you have to write a program which you should maintain similar classes, with similar working and even output is same then polymorphism implementation is useful for optimization"
   ]
  },
  {
   "cell_type": "code",
   "execution_count": null,
   "metadata": {},
   "outputs": [],
   "source": []
  }
 ],
 "metadata": {
  "kernelspec": {
   "display_name": "Python 3",
   "language": "python",
   "name": "python3"
  },
  "language_info": {
   "codemirror_mode": {
    "name": "ipython",
    "version": 3
   },
   "file_extension": ".py",
   "mimetype": "text/x-python",
   "name": "python",
   "nbconvert_exporter": "python",
   "pygments_lexer": "ipython3",
   "version": "3.8.3"
  }
 },
 "nbformat": 4,
 "nbformat_minor": 4
}
