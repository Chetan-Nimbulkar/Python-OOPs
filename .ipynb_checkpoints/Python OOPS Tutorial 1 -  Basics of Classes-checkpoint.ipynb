{
 "cells": [
  {
   "cell_type": "markdown",
   "metadata": {},
   "source": [
    "# Classes :\n",
    "\n",
    "They allow to logically group the data, process them and show them as they need\n",
    "\n",
    "`data, functions = attributes,methods`\n",
    "\n",
    "Class is the blueprint to create instances of the class"
   ]
  },
  {
   "cell_type": "code",
   "execution_count": 1,
   "metadata": {},
   "outputs": [],
   "source": [
    "class Employee:\n",
    "    pass"
   ]
  },
  {
   "cell_type": "markdown",
   "metadata": {},
   "source": [
    "Here we made two instances emp_1 and emp_2 with the same class"
   ]
  },
  {
   "cell_type": "code",
   "execution_count": 2,
   "metadata": {},
   "outputs": [],
   "source": [
    "emp_1 =Employee()\n",
    "emp_2 =Employee()"
   ]
  },
  {
   "cell_type": "code",
   "execution_count": 4,
   "metadata": {},
   "outputs": [],
   "source": [
    "emp_1.name =\"Chetan\"\n",
    "emp_1.last =\"Nimbulkar\"\n",
    "emp_1.email = \"Chetan_nimbulkar@company.com\"\n",
    "emp_1.pay = 100000   #all of these are attribues"
   ]
  },
  {
   "cell_type": "code",
   "execution_count": 7,
   "metadata": {},
   "outputs": [],
   "source": [
    "emp_2.name =\"Adam\"\n",
    "emp_2.last =\"Jensen\"\n",
    "emp_2.email = \"Adam_Jensen@company.com\"\n",
    "emp_2.pay = 100000"
   ]
  },
  {
   "cell_type": "code",
   "execution_count": 8,
   "metadata": {},
   "outputs": [
    {
     "name": "stdout",
     "output_type": "stream",
     "text": [
      "Chetan_nimbulkar@company.com\n",
      "Test_Testlast@company.com\n"
     ]
    }
   ],
   "source": [
    "print(emp_1.email)\n",
    "print(emp_2.email)"
   ]
  },
  {
   "cell_type": "markdown",
   "metadata": {},
   "source": [
    "Now See we created the instance of the class but the problem is that the class doesn't have any definite structure nor framework\n",
    "that means at any instance we can create a new attribute at any instance but when data collection comes this become the problem"
   ]
  },
  {
   "cell_type": "markdown",
   "metadata": {},
   "source": [
    "Okay then create the class with attributes"
   ]
  },
  {
   "cell_type": "markdown",
   "metadata": {},
   "source": [
    "###   **Caution!!** Declaring class again removes the previous attributes for its instances"
   ]
  },
  {
   "cell_type": "code",
   "execution_count": 1,
   "metadata": {},
   "outputs": [],
   "source": [
    "class Employee:\n",
    "    #method / Constructor\n",
    "    def __init__(self, first,last,pay):\n",
    "        self.first = first\n",
    "        self.last = last\n",
    "        self.pay  = pay\n",
    "        self.email = \"{}_{}@company.com\".format(self.first,self.last)"
   ]
  },
  {
   "cell_type": "markdown",
   "metadata": {},
   "source": [
    "okay create the instance taking blueprint of the class"
   ]
  },
  {
   "cell_type": "code",
   "execution_count": 2,
   "metadata": {},
   "outputs": [],
   "source": [
    "emp_3 = Employee(\"Max\",\"payne\",50000)"
   ]
  },
  {
   "cell_type": "markdown",
   "metadata": {},
   "source": [
    "Data (attributes) given to the class instance so let's We call one"
   ]
  },
  {
   "cell_type": "code",
   "execution_count": 3,
   "metadata": {},
   "outputs": [
    {
     "data": {
      "text/plain": [
       "'Max_payne@company.com'"
      ]
     },
     "execution_count": 3,
     "metadata": {},
     "output_type": "execute_result"
    }
   ],
   "source": [
    "emp_3.email"
   ]
  },
  {
   "cell_type": "markdown",
   "metadata": {},
   "source": [
    "okay we create a method to simply create the full name of the given class instance"
   ]
  },
  {
   "cell_type": "code",
   "execution_count": 4,
   "metadata": {},
   "outputs": [],
   "source": [
    "class Employee:\n",
    "    #method / Constructor\n",
    "    def __init__(self, first,last,pay):\n",
    "        self.first = first\n",
    "        self.last = last\n",
    "        self.pay  = pay\n",
    "        self.email = \"{}_{}@company.com\".format(self.first,self.last)\n",
    "        \n",
    "    def fullname(): #notice here\n",
    "        return \"{} {}\".format(self.first, self.last)"
   ]
  },
  {
   "cell_type": "code",
   "execution_count": 5,
   "metadata": {},
   "outputs": [],
   "source": [
    "emp_3 = Employee(\"Max\",\"payne\",50000)"
   ]
  },
  {
   "cell_type": "code",
   "execution_count": 6,
   "metadata": {},
   "outputs": [
    {
     "ename": "TypeError",
     "evalue": "fullname() takes 0 positional arguments but 1 was given",
     "output_type": "error",
     "traceback": [
      "\u001b[1;31m---------------------------------------------------------------------------\u001b[0m",
      "\u001b[1;31mTypeError\u001b[0m                                 Traceback (most recent call last)",
      "\u001b[1;32m<ipython-input-6-118ca8aad1ab>\u001b[0m in \u001b[0;36m<module>\u001b[1;34m\u001b[0m\n\u001b[1;32m----> 1\u001b[1;33m \u001b[0memp_3\u001b[0m\u001b[1;33m.\u001b[0m\u001b[0mfullname\u001b[0m\u001b[1;33m(\u001b[0m\u001b[1;33m)\u001b[0m\u001b[1;33m\u001b[0m\u001b[1;33m\u001b[0m\u001b[0m\n\u001b[0m",
      "\u001b[1;31mTypeError\u001b[0m: fullname() takes 0 positional arguments but 1 was given"
     ]
    }
   ],
   "source": [
    "emp_3.fullname()"
   ]
  },
  {
   "cell_type": "markdown",
   "metadata": {},
   "source": [
    "The problem is as we take the instance from a class the argument \"self\" is put in form of instance variable\n",
    "(Here `emp_3.fullname()`  `emp_3` is argument of instance entitled to be `\"self\"`)"
   ]
  },
  {
   "cell_type": "code",
   "execution_count": 32,
   "metadata": {},
   "outputs": [],
   "source": [
    "class Employee:\n",
    "    #method / Constructor\n",
    "    def __init__(self, first,last,pay):\n",
    "        self.first = first\n",
    "        self.last = last\n",
    "        self.pay  = pay\n",
    "        self.email = \"{}_{}@company.com\".format(self.first,self.last)\n",
    "        \n",
    "    def fullname(self): #notice here\n",
    "        return \"{} {}\".format(self.first, self.last)"
   ]
  },
  {
   "cell_type": "code",
   "execution_count": 34,
   "metadata": {},
   "outputs": [],
   "source": [
    "emp_3 = Employee(\"Max\",\"Payne\",50000)"
   ]
  },
  {
   "cell_type": "code",
   "execution_count": 35,
   "metadata": {},
   "outputs": [
    {
     "data": {
      "text/plain": [
       "'Max payne'"
      ]
     },
     "execution_count": 35,
     "metadata": {},
     "output_type": "execute_result"
    }
   ],
   "source": [
    "emp_3.fullname()"
   ]
  },
  {
   "cell_type": "markdown",
   "metadata": {},
   "source": [
    "okay let we need to create ID cards from the given employee info so how we can represect an employee"
   ]
  },
  {
   "cell_type": "markdown",
   "metadata": {},
   "source": [
    "There the __repr__ method comes in, this is used for represent an instance of an object whenever desired"
   ]
  },
  {
   "cell_type": "code",
   "execution_count": 58,
   "metadata": {},
   "outputs": [],
   "source": [
    "class Employee:\n",
    "    #method / Constructor\n",
    "    def __init__(self, first,last,pay):\n",
    "        self.first = first\n",
    "        self.last = last\n",
    "        self.pay  = pay\n",
    "        self.email = \"{}_{}@company.com\".format(self.first,self.last)\n",
    "        \n",
    "    def fullname(self):\n",
    "        return \"{} {}\".format(self.first, self.last)\n",
    "    \n",
    "    def __repr__(self):\n",
    "        return \"Name: {} {} \".format(self.first,self.last) + \"Email : {}_{}@company.com\".format(self.first,self.last)\n",
    "    "
   ]
  },
  {
   "cell_type": "code",
   "execution_count": 59,
   "metadata": {},
   "outputs": [],
   "source": [
    "emp_3 = Employee(\"Max\",\"payne\",50000)"
   ]
  },
  {
   "cell_type": "code",
   "execution_count": 60,
   "metadata": {},
   "outputs": [
    {
     "name": "stdout",
     "output_type": "stream",
     "text": [
      "Name: Max payne Email : Max_payne@company.com\n"
     ]
    }
   ],
   "source": [
    "print(str(emp_3))"
   ]
  },
  {
   "cell_type": "markdown",
   "metadata": {},
   "source": [
    "Note that \"__repr__\" method only return string"
   ]
  },
  {
   "cell_type": "code",
   "execution_count": null,
   "metadata": {},
   "outputs": [],
   "source": [
    "let we want to give a raise for an employee by 4% so we can write a method"
   ]
  },
  {
   "cell_type": "code",
   "execution_count": null,
   "metadata": {},
   "outputs": [],
   "source": [
    "class Employee:\n",
    "    #method / Constructor\n",
    "    def __init__(self, first,last,pay):\n",
    "        self.first = first\n",
    "        self.last = last\n",
    "        self.pay  = pay\n",
    "        self.email = \"{}_{}@company.com\".format(self.first,self.last)\n",
    "        \n",
    "    def fullname(self):\n",
    "        return \"{} {}\".format(self.first, self.last)\n",
    "    \n",
    "    def __repr__(self):\n",
    "        return \"Name: {} {} \".format(self.first,self.last) + \"Email : {}_{}@company.com\".format(self.first,self.last)\n",
    "    \n",
    "    def apply_raise(self):\n",
    "        self.pay = int(self.pay * 1.04)\n",
    "        "
   ]
  },
  {
   "cell_type": "markdown",
   "metadata": {},
   "source": [
    "### Class and instance Variables\n",
    "\n",
    "Let me introduce the class and instance variable "
   ]
  },
  {
   "cell_type": "markdown",
   "metadata": {},
   "source": [
    "Q : What is benefit of it?\\\n",
    "A : We can change its value at any instance as we want"
   ]
  },
  {
   "cell_type": "code",
   "execution_count": null,
   "metadata": {},
   "outputs": [],
   "source": [
    "class Employee:\n",
    "    #method / Constructor\n",
    "    def __init__(self, first,last,pay):\n",
    "        self.first = first\n",
    "        self.last = last\n",
    "        self.pay  = pay\n",
    "        self.email = \"{}_{}@company.com\".format(self.first,self.last)\n",
    "        \n",
    "    def fullname(self):\n",
    "        return \"{} {}\".format(self.first, self.last)\n",
    "    \n",
    "    def __repr__(self):\n",
    "        return \"Name: {} {} \".format(self.first,self.last) + \"Email : {}_{}@company.com\".format(self.first,self.last)\n",
    "    \n",
    "    raise_amount = 1.04\n",
    "    \n",
    "    def apply_raise(self):\n",
    "        self.pay = int(self.pay * raise_amount)#!!!!\n",
    "        "
   ]
  },
  {
   "cell_type": "markdown",
   "metadata": {},
   "source": [
    "the class variable must be access by class itself or an instance of the class"
   ]
  },
  {
   "cell_type": "code",
   "execution_count": 1,
   "metadata": {},
   "outputs": [],
   "source": [
    "class Employee:\n",
    "    #method / Constructor\n",
    "    def __init__(self, first,last,pay):\n",
    "        self.first = first\n",
    "        self.last = last\n",
    "        self.pay  = pay\n",
    "        self.email = \"{}_{}@company.com\".format(self.first,self.last)\n",
    "        \n",
    "    def fullname(self):\n",
    "        return \"{} {}\".format(self.first, self.last)\n",
    "    \n",
    "    def __repr__(self):\n",
    "        return \"Name: {} {} \".format(self.first,self.last) + \"Email : {}_{}@company.com\".format(self.first,self.last)\n",
    "    \n",
    "    raise_amount = 1.04\n",
    "    \n",
    "    def apply_raise(self):\n",
    "        self.pay = int(self.pay * Employee.raise_amount) # Class Variable\n",
    "#         self.pay = int(self.pay * self.raise_amount)   we can even use this but diffence can be found later"
   ]
  },
  {
   "cell_type": "code",
   "execution_count": 2,
   "metadata": {},
   "outputs": [],
   "source": [
    "emp_1 = Employee(\"Chetan\",\"Nimbulkar\",60000)"
   ]
  },
  {
   "cell_type": "code",
   "execution_count": 3,
   "metadata": {},
   "outputs": [
    {
     "data": {
      "text/plain": [
       "60000"
      ]
     },
     "execution_count": 3,
     "metadata": {},
     "output_type": "execute_result"
    }
   ],
   "source": [
    "emp_1.pay"
   ]
  },
  {
   "cell_type": "code",
   "execution_count": 4,
   "metadata": {},
   "outputs": [],
   "source": [
    "emp_1.apply_raise()"
   ]
  },
  {
   "cell_type": "code",
   "execution_count": 5,
   "metadata": {},
   "outputs": [
    {
     "data": {
      "text/plain": [
       "62400"
      ]
     },
     "execution_count": 5,
     "metadata": {},
     "output_type": "execute_result"
    }
   ],
   "source": [
    "emp_1.pay"
   ]
  },
  {
   "cell_type": "code",
   "execution_count": 6,
   "metadata": {},
   "outputs": [
    {
     "name": "stdout",
     "output_type": "stream",
     "text": [
      "1.04\n",
      "1.04\n"
     ]
    }
   ],
   "source": [
    "print(Employee.raise_amount) #class\n",
    "print(Employee.raise_amount) #Instance"
   ]
  },
  {
   "cell_type": "code",
   "execution_count": 7,
   "metadata": {},
   "outputs": [
    {
     "name": "stdout",
     "output_type": "stream",
     "text": [
      "{'first': 'Chetan', 'last': 'Nimbulkar', 'pay': 62400, 'email': 'Chetan_Nimbulkar@company.com'}\n",
      "{'__module__': '__main__', '__init__': <function Employee.__init__ at 0x0000027135F91670>, 'fullname': <function Employee.fullname at 0x0000027135F91700>, '__repr__': <function Employee.__repr__ at 0x0000027135F91790>, 'raise_amount': 1.04, 'apply_raise': <function Employee.apply_raise at 0x0000027135F91820>, '__dict__': <attribute '__dict__' of 'Employee' objects>, '__weakref__': <attribute '__weakref__' of 'Employee' objects>, '__doc__': None}\n"
     ]
    }
   ],
   "source": [
    "print(emp_1.__dict__)\n",
    "print(Employee.__dict__)"
   ]
  },
  {
   "cell_type": "markdown",
   "metadata": {},
   "source": [
    "Earlier we discussed we can change the variable"
   ]
  },
  {
   "cell_type": "code",
   "execution_count": 8,
   "metadata": {},
   "outputs": [
    {
     "name": "stdout",
     "output_type": "stream",
     "text": [
      "1.05\n",
      "1.05\n"
     ]
    }
   ],
   "source": [
    "Employee.raise_amount = 1.05\n",
    "print(Employee.raise_amount)\n",
    "print(emp_1.raise_amount) # when class variable is changed, instance variable also changed"
   ]
  },
  {
   "cell_type": "code",
   "execution_count": 9,
   "metadata": {},
   "outputs": [
    {
     "name": "stdout",
     "output_type": "stream",
     "text": [
      "1.05\n",
      "1.1\n"
     ]
    }
   ],
   "source": [
    "emp_1.raise_amount = 1.10\n",
    "print(Employee.raise_amount)\n",
    "print(emp_1.raise_amount) # when instance variable also changed, class variable stays as same"
   ]
  },
  {
   "cell_type": "code",
   "execution_count": 10,
   "metadata": {},
   "outputs": [
    {
     "name": "stdout",
     "output_type": "stream",
     "text": [
      "{'first': 'Chetan', 'last': 'Nimbulkar', 'pay': 62400, 'email': 'Chetan_Nimbulkar@company.com', 'raise_amount': 1.1}\n",
      "{'__module__': '__main__', '__init__': <function Employee.__init__ at 0x0000027135F91670>, 'fullname': <function Employee.fullname at 0x0000027135F91700>, '__repr__': <function Employee.__repr__ at 0x0000027135F91790>, 'raise_amount': 1.05, 'apply_raise': <function Employee.apply_raise at 0x0000027135F91820>, '__dict__': <attribute '__dict__' of 'Employee' objects>, '__weakref__': <attribute '__weakref__' of 'Employee' objects>, '__doc__': None}\n"
     ]
    }
   ],
   "source": [
    "print(emp_1.__dict__) # Here we changed 'raise_amount' \n",
    "print(Employee.__dict__)"
   ]
  },
  {
   "cell_type": "code",
   "execution_count": 12,
   "metadata": {},
   "outputs": [],
   "source": [
    "class Employee:\n",
    "    #method / Constructor\n",
    "    def __init__(self, first,last,pay):\n",
    "        self.first = first\n",
    "        self.last = last\n",
    "        self.pay  = pay\n",
    "        self.email = \"{}_{}@company.com\".format(self.first,self.last)\n",
    "        \n",
    "    def fullname(self):\n",
    "        return \"{} {}\".format(self.first, self.last)\n",
    "    \n",
    "    def __repr__(self):\n",
    "        return \"Name: {} {} \".format(self.first,self.last) + \"Email : {}_{}@company.com\".format(self.first,self.last)\n",
    "    \n",
    "    raise_amount = 1.04\n",
    "    \n",
    "    def apply_raise(self):\n",
    "        self.pay = int(self.pay * self.raise_amount)"
   ]
  },
  {
   "cell_type": "markdown",
   "metadata": {},
   "source": [
    "Using self.raise_amount gives precise control on instance variable , any subclass override the value of variable (\"raise_amount\") as given"
   ]
  },
  {
   "cell_type": "markdown",
   "metadata": {},
   "source": [
    "but sometimes there must be some variable which should be left as class-specific as it needed"
   ]
  },
  {
   "cell_type": "markdown",
   "metadata": {},
   "source": [
    "Eg. We need the total number of employees in the company"
   ]
  },
  {
   "cell_type": "code",
   "execution_count": 19,
   "metadata": {},
   "outputs": [],
   "source": [
    "class Employee:\n",
    "    #method / Constructor\n",
    "    num_of_employees = 0\n",
    "    def __init__(self, first,last,pay):\n",
    "        self.first = first\n",
    "        self.last = last\n",
    "        self.pay  = pay\n",
    "        self.email = \"{}_{}@company.com\".format(self.first,self.last)\n",
    "        \n",
    "        Employee.num_of_employees += 1  \n",
    "        \n",
    "    def fullname(self):\n",
    "        return \"{} {}\".format(self.first, self.last)\n",
    "    \n",
    "    def __repr__(self):\n",
    "        return \"Name: {} {} \".format(self.first,self.last) + \"Email : {}_{}@company.com\".format(self.first,self.last)\n",
    "    \n",
    "    raise_amount = 1.04\n",
    "    \n",
    "    def apply_raise(self):\n",
    "        self.pay = int(self.pay * self.raise_amount)"
   ]
  },
  {
   "cell_type": "code",
   "execution_count": 20,
   "metadata": {},
   "outputs": [
    {
     "name": "stdout",
     "output_type": "stream",
     "text": [
      "2\n"
     ]
    }
   ],
   "source": [
    "emp_3 = Employee(\"Max\",\"payne\",50000)\n",
    "emp_1 = Employee(\"Chetan\",\"Nimbulkar\",60000)\n",
    "print(Employee.num_of_employees)"
   ]
  },
  {
   "cell_type": "code",
   "execution_count": 21,
   "metadata": {},
   "outputs": [
    {
     "name": "stdout",
     "output_type": "stream",
     "text": [
      "2\n"
     ]
    }
   ],
   "source": [
    "del emp_3\n",
    "print(Employee.num_of_employees)"
   ]
  },
  {
   "cell_type": "markdown",
   "metadata": {},
   "source": [
    "### Regular method,Class Methods and static methods"
   ]
  },
  {
   "cell_type": "markdown",
   "metadata": {},
   "source": [
    "Tip : Regular Method automatically takes instance as first argument"
   ]
  },
  {
   "cell_type": "code",
   "execution_count": 1,
   "metadata": {},
   "outputs": [],
   "source": [
    "class Employee:\n",
    "    #method / Constructor\n",
    "    num_of_employees = 0\n",
    "    def __init__(self, first,last,pay):\n",
    "        self.first = first\n",
    "        self.last = last\n",
    "        self.pay  = pay\n",
    "        self.email = \"{}_{}@company.com\".format(self.first,self.last)\n",
    "        \n",
    "        Employee.num_of_employees += 1  \n",
    "        \n",
    "    def fullname(self):\n",
    "        return \"{} {}\".format(self.first, self.last)\n",
    "    \n",
    "    def __repr__(self):\n",
    "        return \"Name: {} {} \".format(self.first,self.last) + \"Email : {}_{}@company.com\".format(self.first,self.last)\n",
    "    \n",
    "    raise_amount = 1.04\n",
    "    \n",
    "    def apply_raise(self):\n",
    "        self.pay = int(self.pay * self.raise_amount)\n",
    "                \n",
    "    @classmethod\n",
    "    def set_raise_amt(cls,amount): #cls means you've got class as an first argument. use cls instead of class\n",
    "        cls.raise_amt = amount"
   ]
  },
  {
   "cell_type": "code",
   "execution_count": 2,
   "metadata": {},
   "outputs": [],
   "source": [
    "emp_1 = Employee(\"Max\",\"payne\",50000)\n",
    "emp_2 = Employee(\"Chetan\",\"Nimbulkar\",60000)"
   ]
  },
  {
   "cell_type": "code",
   "execution_count": 3,
   "metadata": {},
   "outputs": [
    {
     "name": "stdout",
     "output_type": "stream",
     "text": [
      "<bound method Employee.set_raise_amt of <class '__main__.Employee'>>\n",
      "1.11\n",
      "1.11\n",
      "1.11\n"
     ]
    }
   ],
   "source": [
    "print(Employee.set_raise_amt)\n",
    "Employee.set_raise_amt = 1.11  #running from class perspective\n",
    "print(Employee.set_raise_amt)\n",
    "print(emp_1.set_raise_amt)\n",
    "print(emp_2.set_raise_amt)"
   ]
  },
  {
   "cell_type": "code",
   "execution_count": 4,
   "metadata": {},
   "outputs": [
    {
     "name": "stdout",
     "output_type": "stream",
     "text": [
      "1.11\n",
      "1.12\n",
      "1.11\n"
     ]
    }
   ],
   "source": [
    "\n",
    "emp_1.set_raise_amt = 1.12   #running from instance perspective\n",
    "print(Employee.set_raise_amt)\n",
    "print(emp_1.set_raise_amt)\n",
    "print(emp_2.set_raise_amt)"
   ]
  },
  {
   "cell_type": "markdown",
   "metadata": {},
   "source": [
    "`@classmethod` can be used to create new instances of the class"
   ]
  },
  {
   "cell_type": "code",
   "execution_count": null,
   "metadata": {},
   "outputs": [],
   "source": [
    "#other methods removed so the important concepts could be focused upon\n",
    "#This  from_string \n",
    "class Employee:\n",
    "    #method / Constructor\n",
    "    num_of_employees = 0\n",
    "    def __init__(self, first,last,pay):\n",
    "        self.first = first\n",
    "        self.last = last\n",
    "        self.pay  = pay\n",
    "        self.email = \"{}_{}@company.com\".format(self.first,self.last)\n",
    "        \n",
    "        Employee.num_of_employees += 1  \n",
    "        \n",
    "    @classmethod\n",
    "    def from_string(cls,emp_str): \n",
    "        first,last,pay = emp_str.split(\"-\")\n",
    "        return cls(first,last,pay)\n",
    "    #this is example using classmethod as a constructor "
   ]
  },
  {
   "cell_type": "markdown",
   "metadata": {},
   "source": [
    "The static method does not run or include any instance in method but have logical relation to the class"
   ]
  },
  {
   "cell_type": "code",
   "execution_count": 5,
   "metadata": {},
   "outputs": [],
   "source": [
    "#This is example of static method which returns wheter given day is weekday or not, which is related to office work\n",
    "class Employee:\n",
    "    #method / Constructor\n",
    "    num_of_employees = 0\n",
    "    def __init__(self, first,last,pay):\n",
    "        self.first = first\n",
    "        self.last = last\n",
    "        self.pay  = pay\n",
    "        self.email = \"{}_{}@company.com\".format(self.first,self.last)\n",
    "        \n",
    "        Employee.num_of_employees += 1  \n",
    "        \n",
    "    @classmethod\n",
    "    def from_string(cls,emp_str): \n",
    "        first,last,pay = emp_str.split(\"-\")\n",
    "        return cls(first,last,pay)\n",
    "    \n",
    "    @staticmethod\n",
    "    def is_weekend(day):\n",
    "        if day.weekday == 6:\n",
    "            return False\n",
    "        return True"
   ]
  },
  {
   "cell_type": "code",
   "execution_count": 7,
   "metadata": {},
   "outputs": [
    {
     "name": "stdout",
     "output_type": "stream",
     "text": [
      "True\n"
     ]
    }
   ],
   "source": [
    "import datetime\n",
    "eg=datetime.date(2020,6,20)# Y,M,D\n",
    "print(Employee.is_weekend(eg))"
   ]
  },
  {
   "cell_type": "markdown",
   "metadata": {},
   "source": [
    "Regular Method passes __instance__ as first argument (self)\\\n",
    "Class method passes __entire class__ as first argument (cls)\\\n",
    "Static method passes __nothing__ as first argument"
   ]
  },
  {
   "cell_type": "code",
   "execution_count": null,
   "metadata": {},
   "outputs": [],
   "source": []
  }
 ],
 "metadata": {
  "kernelspec": {
   "display_name": "Python 3",
   "language": "python",
   "name": "python3"
  },
  "language_info": {
   "codemirror_mode": {
    "name": "ipython",
    "version": 3
   },
   "file_extension": ".py",
   "mimetype": "text/x-python",
   "name": "python",
   "nbconvert_exporter": "python",
   "pygments_lexer": "ipython3",
   "version": "3.8.3"
  }
 },
 "nbformat": 4,
 "nbformat_minor": 4
}
