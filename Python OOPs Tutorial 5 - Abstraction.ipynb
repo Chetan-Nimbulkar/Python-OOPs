{
 "cells": [
  {
   "cell_type": "markdown",
   "metadata": {},
   "source": [
    "# Abstraction"
   ]
  },
  {
   "cell_type": "markdown",
   "metadata": {},
   "source": [
    "In simple language the abstraction is deriving a child class from the parent(abstract) class. This abstract class is not used for direct implementation for the class. the child class used for this case."
   ]
  },
  {
   "cell_type": "markdown",
   "metadata": {},
   "source": [
    "### Uses"
   ]
  },
  {
   "cell_type": "markdown",
   "metadata": {},
   "source": [
    "This concept is used when you have to implement a feature in main program as an add-on, this become a major concern when we would code a big project and the plug-in takes main features from abstract class but implements its own functionality for eg."
   ]
  },
  {
   "cell_type": "code",
   "execution_count": 2,
   "metadata": {},
   "outputs": [
    {
     "name": "stdout",
     "output_type": "stream",
     "text": [
      "Area of a rectangle: 15\n",
      "Area of a circle: 50.24\n"
     ]
    }
   ],
   "source": [
    "from abc import ABC\n",
    "class Shape(ABC): #abstract class\n",
    "    def calculate_area(self): #abstract \n",
    "        methodpass\n",
    "\n",
    "class Rectangle(Shape):\n",
    "    length = 5\n",
    "    breadth = 3\n",
    "    def calculate_area(self):\n",
    "        return self.length * self.breadth\n",
    "\n",
    "class Circle(Shape):\n",
    "    radius = 4\n",
    "    def calculate_area(self):\n",
    "        return 3.14 * self.radius * self.radius\n",
    "\n",
    "rec = Rectangle() #object created for the class 'Rectangle'\n",
    "cir = Circle() #object created for the class 'Circle'\n",
    "print(\"Area of a rectangle:\", rec.calculate_area()) #call to 'calculate_area' method defined inside the class 'Rectangle'\n",
    "print(\"Area of a circle:\", cir.calculate_area()) #call to 'calculate_area' method defined inside the class 'Circle'.\n"
   ]
  },
  {
   "cell_type": "markdown",
   "metadata": {},
   "source": [
    "Here Shape is an abstract class, we defined an abstract method called `Shape` which is inherited by two child classes `class Rectangle` and `class Circle` while using the perticular assigned method `def calculate_area(self)` defines its own process and whenever object is assigned, it assigned to the child class"
   ]
  },
  {
   "cell_type": "markdown",
   "metadata": {},
   "source": [
    "See abstract class gives the framework for child classes, child classes then implements the functionality as it depends upon the main(parent) class"
   ]
  },
  {
   "cell_type": "markdown",
   "metadata": {},
   "source": [
    "### What is ABC\n",
    "By default python doesn't have class abstraction, to implement it, we import an `Abstract Base Class` or ABC"
   ]
  },
  {
   "cell_type": "code",
   "execution_count": null,
   "metadata": {},
   "outputs": [],
   "source": [
    "from abc import ABC\n",
    "class Shape(ABC):\n",
    "    def print(self):\n",
    "        print(\"I am a normal method defined inside the abstract class 'Shape'\")\n",
    "    def calculate_are(self):\n",
    "        pass\n",
    "\n",
    "class Rectangle(Shape):\n",
    "    length = 5\n",
    "    breadth = 3\n",
    "    def calculate_area(self):\n",
    "        return self.length * self.breadth\n",
    "\n",
    "rec = Rectangle() #object created for the class 'Rectangle'\n",
    "rec.print()\n",
    "print(\"Area of a rectangle:\", rec.calculate_area()) #call to 'calculate_area' method defined inside the class 'Rectangle'\n",
    "    "
   ]
  }
 ],
 "metadata": {
  "kernelspec": {
   "display_name": "Python 3",
   "language": "python",
   "name": "python3"
  },
  "language_info": {
   "codemirror_mode": {
    "name": "ipython",
    "version": 3
   },
   "file_extension": ".py",
   "mimetype": "text/x-python",
   "name": "python",
   "nbconvert_exporter": "python",
   "pygments_lexer": "ipython3",
   "version": "3.8.3"
  }
 },
 "nbformat": 4,
 "nbformat_minor": 4
}
